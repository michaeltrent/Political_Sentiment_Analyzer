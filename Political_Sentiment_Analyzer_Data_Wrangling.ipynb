{
 "cells": [
  {
   "cell_type": "markdown",
   "metadata": {},
   "source": [
    "# Political Sentiment Analyzer - Data Wrangling Notebook\n",
    "\n",
    "## Written by: Michael Trent\n",
    "\n",
    "This notebook imports and cleans data from ~7,800 news articles obtained from an Article published in 2020 titled Analyzing Political Bias and Unfairness in News Articles at Different Levels of Granularity"
   ]
  },
  {
   "cell_type": "code",
   "execution_count": 1,
   "metadata": {},
   "outputs": [],
   "source": [
    "import pandas as pd\n",
    "import numpy as np\n",
    "import tarfile\n",
    "from nltk import sent_tokenize, word_tokenize\n",
    "from nltk.corpus import stopwords\n",
    "from string import punctuation\n",
    "from nltk.stem import PorterStemmer\n",
    "from sklearn.feature_extraction.text import CountVectorizer\n",
    "import warnings\n",
    "warnings.simplefilter(action='ignore', category=FutureWarning)"
   ]
  },
  {
   "cell_type": "code",
   "execution_count": 2,
   "metadata": {},
   "outputs": [],
   "source": [
    "articles = pd.read_json('released_data.json', lines = True)"
   ]
  },
  {
   "cell_type": "code",
   "execution_count": 3,
   "metadata": {},
   "outputs": [
    {
     "data": {
      "text/plain": [
       "(7775, 8)"
      ]
     },
     "execution_count": 3,
     "metadata": {},
     "output_type": "execute_result"
    }
   ],
   "source": [
    "articles.shape"
   ]
  },
  {
   "cell_type": "code",
   "execution_count": 4,
   "metadata": {},
   "outputs": [
    {
     "data": {
      "text/html": [
       "<div>\n",
       "<style scoped>\n",
       "    .dataframe tbody tr th:only-of-type {\n",
       "        vertical-align: middle;\n",
       "    }\n",
       "\n",
       "    .dataframe tbody tr th {\n",
       "        vertical-align: top;\n",
       "    }\n",
       "\n",
       "    .dataframe thead th {\n",
       "        text-align: right;\n",
       "    }\n",
       "</style>\n",
       "<table border=\"1\" class=\"dataframe\">\n",
       "  <thead>\n",
       "    <tr style=\"text-align: right;\">\n",
       "      <th></th>\n",
       "      <th>source</th>\n",
       "      <th>title</th>\n",
       "      <th>event_id</th>\n",
       "      <th>adfontes_fair</th>\n",
       "      <th>adfontes_political</th>\n",
       "      <th>allsides_bias</th>\n",
       "      <th>content</th>\n",
       "      <th>misc</th>\n",
       "    </tr>\n",
       "  </thead>\n",
       "  <tbody>\n",
       "    <tr>\n",
       "      <th>0</th>\n",
       "      <td>Fox News</td>\n",
       "      <td>Trump blasts Howard Schultz, says ex-Starbucks...</td>\n",
       "      <td>0</td>\n",
       "      <td>bias</td>\n",
       "      <td>bias</td>\n",
       "      <td>From the Right</td>\n",
       "      <td>Obama administration alum Roger Fisk and Repub...</td>\n",
       "      <td>{'time': '2019-01-28 16:10:44.680484', 'topics...</td>\n",
       "    </tr>\n",
       "    <tr>\n",
       "      <th>1</th>\n",
       "      <td>USA TODAY</td>\n",
       "      <td>Trump blasts former Starbucks CEO Howard Schul...</td>\n",
       "      <td>0</td>\n",
       "      <td>bias</td>\n",
       "      <td>neutral</td>\n",
       "      <td>From the Center</td>\n",
       "      <td>WASHINGTON – President Donald Trump took a swi...</td>\n",
       "      <td>{'time': 'None', 'topics': 'Election: Presiden...</td>\n",
       "    </tr>\n",
       "    <tr>\n",
       "      <th>2</th>\n",
       "      <td>Washington Times</td>\n",
       "      <td>Mick Mulvaney: Trump to secure border 'with or...</td>\n",
       "      <td>0</td>\n",
       "      <td>bias</td>\n",
       "      <td>neutral</td>\n",
       "      <td>From the Right</td>\n",
       "      <td>Acting White House chief of staff Mick Mulvane...</td>\n",
       "      <td>{'time': 'None', 'topics': 'White House', 'aut...</td>\n",
       "    </tr>\n",
       "    <tr>\n",
       "      <th>3</th>\n",
       "      <td>Washington Times</td>\n",
       "      <td>Trump says 'we'll do the emergency' if border ...</td>\n",
       "      <td>0</td>\n",
       "      <td>bias</td>\n",
       "      <td>neutral</td>\n",
       "      <td>From the Right</td>\n",
       "      <td>President Trump repeated his vow Friday to dec...</td>\n",
       "      <td>{'time': 'None', 'topics': 'White House, Polit...</td>\n",
       "    </tr>\n",
       "    <tr>\n",
       "      <th>4</th>\n",
       "      <td>BBC News</td>\n",
       "      <td>Trump backs down to end painful shutdown tempo...</td>\n",
       "      <td>0</td>\n",
       "      <td>bias</td>\n",
       "      <td>neutral</td>\n",
       "      <td>From the Center</td>\n",
       "      <td>President Donald Trump has yielded to politica...</td>\n",
       "      <td>{'time': '2019-01-26 00:00:00', 'topics': 'Whi...</td>\n",
       "    </tr>\n",
       "  </tbody>\n",
       "</table>\n",
       "</div>"
      ],
      "text/plain": [
       "             source                                              title  \\\n",
       "0          Fox News  Trump blasts Howard Schultz, says ex-Starbucks...   \n",
       "1         USA TODAY  Trump blasts former Starbucks CEO Howard Schul...   \n",
       "2  Washington Times  Mick Mulvaney: Trump to secure border 'with or...   \n",
       "3  Washington Times  Trump says 'we'll do the emergency' if border ...   \n",
       "4          BBC News  Trump backs down to end painful shutdown tempo...   \n",
       "\n",
       "   event_id adfontes_fair adfontes_political    allsides_bias  \\\n",
       "0         0          bias               bias   From the Right   \n",
       "1         0          bias            neutral  From the Center   \n",
       "2         0          bias            neutral   From the Right   \n",
       "3         0          bias            neutral   From the Right   \n",
       "4         0          bias            neutral  From the Center   \n",
       "\n",
       "                                             content  \\\n",
       "0  Obama administration alum Roger Fisk and Repub...   \n",
       "1  WASHINGTON – President Donald Trump took a swi...   \n",
       "2  Acting White House chief of staff Mick Mulvane...   \n",
       "3  President Trump repeated his vow Friday to dec...   \n",
       "4  President Donald Trump has yielded to politica...   \n",
       "\n",
       "                                                misc  \n",
       "0  {'time': '2019-01-28 16:10:44.680484', 'topics...  \n",
       "1  {'time': 'None', 'topics': 'Election: Presiden...  \n",
       "2  {'time': 'None', 'topics': 'White House', 'aut...  \n",
       "3  {'time': 'None', 'topics': 'White House, Polit...  \n",
       "4  {'time': '2019-01-26 00:00:00', 'topics': 'Whi...  "
      ]
     },
     "execution_count": 4,
     "metadata": {},
     "output_type": "execute_result"
    }
   ],
   "source": [
    "articles.head()"
   ]
  },
  {
   "cell_type": "code",
   "execution_count": 5,
   "metadata": {},
   "outputs": [
    {
     "name": "stdout",
     "output_type": "stream",
     "text": [
      "<class 'pandas.core.frame.DataFrame'>\n",
      "RangeIndex: 7775 entries, 0 to 7774\n",
      "Data columns (total 8 columns):\n",
      " #   Column              Non-Null Count  Dtype \n",
      "---  ------              --------------  ----- \n",
      " 0   source              7775 non-null   object\n",
      " 1   title               7775 non-null   object\n",
      " 2   event_id            7775 non-null   int64 \n",
      " 3   adfontes_fair       7775 non-null   object\n",
      " 4   adfontes_political  7775 non-null   object\n",
      " 5   allsides_bias       7775 non-null   object\n",
      " 6   content             7775 non-null   object\n",
      " 7   misc                7775 non-null   object\n",
      "dtypes: int64(1), object(7)\n",
      "memory usage: 486.1+ KB\n"
     ]
    }
   ],
   "source": [
    "articles.info()"
   ]
  },
  {
   "cell_type": "markdown",
   "metadata": {},
   "source": [
    "The first thing we need to do is to tokenize the content of the articles for each article. At this time we will also "
   ]
  },
  {
   "cell_type": "code",
   "execution_count": 6,
   "metadata": {},
   "outputs": [],
   "source": [
    "articles['Tokenized'] = articles.content.apply(word_tokenize)"
   ]
  },
  {
   "cell_type": "code",
   "execution_count": 7,
   "metadata": {},
   "outputs": [],
   "source": [
    "articles['sent_tokenized'] = articles.content.apply(sent_tokenize)"
   ]
  },
  {
   "cell_type": "code",
   "execution_count": 8,
   "metadata": {},
   "outputs": [],
   "source": [
    "stop_words = set(stopwords.words('english'))"
   ]
  },
  {
   "cell_type": "code",
   "execution_count": 9,
   "metadata": {},
   "outputs": [],
   "source": [
    "articles.insert(articles.shape[1], 'stemmed', np.nan)"
   ]
  },
  {
   "cell_type": "code",
   "execution_count": 10,
   "metadata": {},
   "outputs": [
    {
     "name": "stderr",
     "output_type": "stream",
     "text": [
      "C:\\Users\\micha\\anaconda3\\lib\\site-packages\\ipykernel_launcher.py:5: SettingWithCopyWarning: \n",
      "A value is trying to be set on a copy of a slice from a DataFrame\n",
      "\n",
      "See the caveats in the documentation: https://pandas.pydata.org/pandas-docs/stable/user_guide/indexing.html#returning-a-view-versus-a-copy\n",
      "  \"\"\"\n",
      "C:\\Users\\micha\\anaconda3\\lib\\site-packages\\pandas\\core\\indexing.py:671: SettingWithCopyWarning: \n",
      "A value is trying to be set on a copy of a slice from a DataFrame\n",
      "\n",
      "See the caveats in the documentation: https://pandas.pydata.org/pandas-docs/stable/user_guide/indexing.html#returning-a-view-versus-a-copy\n",
      "  self._setitem_with_indexer(indexer, value)\n"
     ]
    }
   ],
   "source": [
    "porter = PorterStemmer()\n",
    "for row in range(0, articles.shape[0]):\n",
    "    stemmed = []\n",
    "    [stemmed.append(porter.stem(w.strip().lower())) for w in articles.Tokenized[row] if w.isalpha() and w not in stop_words]\n",
    "    articles.stemmed[row] = stemmed"
   ]
  },
  {
   "cell_type": "code",
   "execution_count": 11,
   "metadata": {},
   "outputs": [
    {
     "data": {
      "text/html": [
       "<div>\n",
       "<style scoped>\n",
       "    .dataframe tbody tr th:only-of-type {\n",
       "        vertical-align: middle;\n",
       "    }\n",
       "\n",
       "    .dataframe tbody tr th {\n",
       "        vertical-align: top;\n",
       "    }\n",
       "\n",
       "    .dataframe thead th {\n",
       "        text-align: right;\n",
       "    }\n",
       "</style>\n",
       "<table border=\"1\" class=\"dataframe\">\n",
       "  <thead>\n",
       "    <tr style=\"text-align: right;\">\n",
       "      <th></th>\n",
       "      <th>source</th>\n",
       "      <th>title</th>\n",
       "      <th>event_id</th>\n",
       "      <th>adfontes_fair</th>\n",
       "      <th>adfontes_political</th>\n",
       "      <th>allsides_bias</th>\n",
       "      <th>content</th>\n",
       "      <th>misc</th>\n",
       "      <th>Tokenized</th>\n",
       "      <th>sent_tokenized</th>\n",
       "      <th>stemmed</th>\n",
       "    </tr>\n",
       "  </thead>\n",
       "  <tbody>\n",
       "    <tr>\n",
       "      <th>0</th>\n",
       "      <td>Fox News</td>\n",
       "      <td>Trump blasts Howard Schultz, says ex-Starbucks...</td>\n",
       "      <td>0</td>\n",
       "      <td>bias</td>\n",
       "      <td>bias</td>\n",
       "      <td>From the Right</td>\n",
       "      <td>Obama administration alum Roger Fisk and Repub...</td>\n",
       "      <td>{'time': '2019-01-28 16:10:44.680484', 'topics...</td>\n",
       "      <td>[Obama, administration, alum, Roger, Fisk, and...</td>\n",
       "      <td>[Obama administration alum Roger Fisk and Repu...</td>\n",
       "      <td>[obama, administr, alum, roger, fisk, republic...</td>\n",
       "    </tr>\n",
       "    <tr>\n",
       "      <th>1</th>\n",
       "      <td>USA TODAY</td>\n",
       "      <td>Trump blasts former Starbucks CEO Howard Schul...</td>\n",
       "      <td>0</td>\n",
       "      <td>bias</td>\n",
       "      <td>neutral</td>\n",
       "      <td>From the Center</td>\n",
       "      <td>WASHINGTON – President Donald Trump took a swi...</td>\n",
       "      <td>{'time': 'None', 'topics': 'Election: Presiden...</td>\n",
       "      <td>[WASHINGTON, –, President, Donald, Trump, took...</td>\n",
       "      <td>[WASHINGTON – President Donald Trump took a sw...</td>\n",
       "      <td>[washington, presid, donald, trump, took, swip...</td>\n",
       "    </tr>\n",
       "    <tr>\n",
       "      <th>2</th>\n",
       "      <td>Washington Times</td>\n",
       "      <td>Mick Mulvaney: Trump to secure border 'with or...</td>\n",
       "      <td>0</td>\n",
       "      <td>bias</td>\n",
       "      <td>neutral</td>\n",
       "      <td>From the Right</td>\n",
       "      <td>Acting White House chief of staff Mick Mulvane...</td>\n",
       "      <td>{'time': 'None', 'topics': 'White House', 'aut...</td>\n",
       "      <td>[Acting, White, House, chief, of, staff, Mick,...</td>\n",
       "      <td>[Acting White House chief of staff Mick Mulvan...</td>\n",
       "      <td>[act, white, hous, chief, staff, mick, mulvane...</td>\n",
       "    </tr>\n",
       "    <tr>\n",
       "      <th>3</th>\n",
       "      <td>Washington Times</td>\n",
       "      <td>Trump says 'we'll do the emergency' if border ...</td>\n",
       "      <td>0</td>\n",
       "      <td>bias</td>\n",
       "      <td>neutral</td>\n",
       "      <td>From the Right</td>\n",
       "      <td>President Trump repeated his vow Friday to dec...</td>\n",
       "      <td>{'time': 'None', 'topics': 'White House, Polit...</td>\n",
       "      <td>[President, Trump, repeated, his, vow, Friday,...</td>\n",
       "      <td>[President Trump repeated his vow Friday to de...</td>\n",
       "      <td>[presid, trump, repeat, vow, friday, declar, n...</td>\n",
       "    </tr>\n",
       "    <tr>\n",
       "      <th>4</th>\n",
       "      <td>BBC News</td>\n",
       "      <td>Trump backs down to end painful shutdown tempo...</td>\n",
       "      <td>0</td>\n",
       "      <td>bias</td>\n",
       "      <td>neutral</td>\n",
       "      <td>From the Center</td>\n",
       "      <td>President Donald Trump has yielded to politica...</td>\n",
       "      <td>{'time': '2019-01-26 00:00:00', 'topics': 'Whi...</td>\n",
       "      <td>[President, Donald, Trump, has, yielded, to, p...</td>\n",
       "      <td>[President Donald Trump has yielded to politic...</td>\n",
       "      <td>[presid, donald, trump, yield, polit, pressur,...</td>\n",
       "    </tr>\n",
       "  </tbody>\n",
       "</table>\n",
       "</div>"
      ],
      "text/plain": [
       "             source                                              title  \\\n",
       "0          Fox News  Trump blasts Howard Schultz, says ex-Starbucks...   \n",
       "1         USA TODAY  Trump blasts former Starbucks CEO Howard Schul...   \n",
       "2  Washington Times  Mick Mulvaney: Trump to secure border 'with or...   \n",
       "3  Washington Times  Trump says 'we'll do the emergency' if border ...   \n",
       "4          BBC News  Trump backs down to end painful shutdown tempo...   \n",
       "\n",
       "   event_id adfontes_fair adfontes_political    allsides_bias  \\\n",
       "0         0          bias               bias   From the Right   \n",
       "1         0          bias            neutral  From the Center   \n",
       "2         0          bias            neutral   From the Right   \n",
       "3         0          bias            neutral   From the Right   \n",
       "4         0          bias            neutral  From the Center   \n",
       "\n",
       "                                             content  \\\n",
       "0  Obama administration alum Roger Fisk and Repub...   \n",
       "1  WASHINGTON – President Donald Trump took a swi...   \n",
       "2  Acting White House chief of staff Mick Mulvane...   \n",
       "3  President Trump repeated his vow Friday to dec...   \n",
       "4  President Donald Trump has yielded to politica...   \n",
       "\n",
       "                                                misc  \\\n",
       "0  {'time': '2019-01-28 16:10:44.680484', 'topics...   \n",
       "1  {'time': 'None', 'topics': 'Election: Presiden...   \n",
       "2  {'time': 'None', 'topics': 'White House', 'aut...   \n",
       "3  {'time': 'None', 'topics': 'White House, Polit...   \n",
       "4  {'time': '2019-01-26 00:00:00', 'topics': 'Whi...   \n",
       "\n",
       "                                           Tokenized  \\\n",
       "0  [Obama, administration, alum, Roger, Fisk, and...   \n",
       "1  [WASHINGTON, –, President, Donald, Trump, took...   \n",
       "2  [Acting, White, House, chief, of, staff, Mick,...   \n",
       "3  [President, Trump, repeated, his, vow, Friday,...   \n",
       "4  [President, Donald, Trump, has, yielded, to, p...   \n",
       "\n",
       "                                      sent_tokenized  \\\n",
       "0  [Obama administration alum Roger Fisk and Repu...   \n",
       "1  [WASHINGTON – President Donald Trump took a sw...   \n",
       "2  [Acting White House chief of staff Mick Mulvan...   \n",
       "3  [President Trump repeated his vow Friday to de...   \n",
       "4  [President Donald Trump has yielded to politic...   \n",
       "\n",
       "                                             stemmed  \n",
       "0  [obama, administr, alum, roger, fisk, republic...  \n",
       "1  [washington, presid, donald, trump, took, swip...  \n",
       "2  [act, white, hous, chief, staff, mick, mulvane...  \n",
       "3  [presid, trump, repeat, vow, friday, declar, n...  \n",
       "4  [presid, donald, trump, yield, polit, pressur,...  "
      ]
     },
     "execution_count": 11,
     "metadata": {},
     "output_type": "execute_result"
    }
   ],
   "source": [
    "articles.head()"
   ]
  },
  {
   "cell_type": "code",
   "execution_count": 12,
   "metadata": {},
   "outputs": [
    {
     "data": {
      "text/plain": [
       "From the Left      3684\n",
       "From the Right     2851\n",
       "From the Center    1240\n",
       "Name: allsides_bias, dtype: int64"
      ]
     },
     "execution_count": 12,
     "metadata": {},
     "output_type": "execute_result"
    }
   ],
   "source": [
    "articles.allsides_bias.value_counts()"
   ]
  },
  {
   "cell_type": "code",
   "execution_count": 13,
   "metadata": {},
   "outputs": [
    {
     "data": {
      "text/plain": [
       "neutral    5523\n",
       "bias       1441\n",
       "unknown     811\n",
       "Name: adfontes_political, dtype: int64"
      ]
     },
     "execution_count": 13,
     "metadata": {},
     "output_type": "execute_result"
    }
   ],
   "source": [
    "articles.adfontes_political.value_counts()"
   ]
  },
  {
   "cell_type": "code",
   "execution_count": 14,
   "metadata": {},
   "outputs": [],
   "source": [
    "articles.insert(articles.shape[1], 'count_vector', np.nan)"
   ]
  },
  {
   "cell_type": "code",
   "execution_count": 15,
   "metadata": {},
   "outputs": [
    {
     "name": "stderr",
     "output_type": "stream",
     "text": [
      "C:\\Users\\micha\\anaconda3\\lib\\site-packages\\ipykernel_launcher.py:4: SettingWithCopyWarning: \n",
      "A value is trying to be set on a copy of a slice from a DataFrame\n",
      "\n",
      "See the caveats in the documentation: https://pandas.pydata.org/pandas-docs/stable/user_guide/indexing.html#returning-a-view-versus-a-copy\n",
      "  after removing the cwd from sys.path.\n",
      "C:\\Users\\micha\\anaconda3\\lib\\site-packages\\pandas\\core\\indexing.py:671: SettingWithCopyWarning: \n",
      "A value is trying to be set on a copy of a slice from a DataFrame\n",
      "\n",
      "See the caveats in the documentation: https://pandas.pydata.org/pandas-docs/stable/user_guide/indexing.html#returning-a-view-versus-a-copy\n",
      "  self._setitem_with_indexer(indexer, value)\n"
     ]
    }
   ],
   "source": [
    "for row in range(0, articles.shape[0]):\n",
    "    vectorizer = CountVectorizer()\n",
    "    articles.count_vector[row] = [vectorizer.fit_transform(articles.stemmed[row])]"
   ]
  },
  {
   "cell_type": "code",
   "execution_count": 16,
   "metadata": {},
   "outputs": [
    {
     "data": {
      "text/plain": [
       "[<239x147 sparse matrix of type '<class 'numpy.int64'>'\n",
       " \twith 229 stored elements in Compressed Sparse Row format>]"
      ]
     },
     "execution_count": 16,
     "metadata": {},
     "output_type": "execute_result"
    }
   ],
   "source": [
    "articles.count_vector[1]"
   ]
  },
  {
   "cell_type": "code",
   "execution_count": 17,
   "metadata": {},
   "outputs": [],
   "source": [
    "full_text = \"\"\n",
    "full_text = [full_text + \" \" + article for article in articles.content]"
   ]
  },
  {
   "cell_type": "code",
   "execution_count": 18,
   "metadata": {},
   "outputs": [],
   "source": [
    "full_stemmed = []\n",
    "#tokens = word_tokenize(full_text)\n",
    "_ = [full_stemmed.append(porter.stem(w.strip().lower())) for w in word_tokenize(str(full_text)) if w.isalpha() and w not in stop_words]"
   ]
  },
  {
   "cell_type": "code",
   "execution_count": 19,
   "metadata": {},
   "outputs": [
    {
     "data": {
      "text/plain": [
       "['obama',\n",
       " 'administr',\n",
       " 'alum',\n",
       " 'roger',\n",
       " 'fisk',\n",
       " 'republican',\n",
       " 'strategist',\n",
       " 'chri',\n",
       " 'turner',\n",
       " 'weigh']"
      ]
     },
     "execution_count": 19,
     "metadata": {},
     "output_type": "execute_result"
    }
   ],
   "source": [
    "full_stemmed[0:10]"
   ]
  },
  {
   "cell_type": "code",
   "execution_count": 20,
   "metadata": {},
   "outputs": [
    {
     "data": {
      "text/plain": [
       "CountVectorizer()"
      ]
     },
     "execution_count": 20,
     "metadata": {},
     "output_type": "execute_result"
    }
   ],
   "source": [
    "full_vectorizer = CountVectorizer()\n",
    "full_vectorizer.fit(full_stemmed)"
   ]
  },
  {
   "cell_type": "code",
   "execution_count": 21,
   "metadata": {},
   "outputs": [],
   "source": [
    "vocab = full_vectorizer.vocabulary_\n",
    "corpus_matrix = full_vectorizer.transform(full_stemmed)"
   ]
  },
  {
   "cell_type": "code",
   "execution_count": 22,
   "metadata": {},
   "outputs": [
    {
     "data": {
      "text/plain": [
       "Index(['source', 'title', 'event_id', 'adfontes_fair', 'adfontes_political',\n",
       "       'allsides_bias', 'content', 'misc', 'Tokenized', 'sent_tokenized',\n",
       "       'stemmed', 'count_vector'],\n",
       "      dtype='object')"
      ]
     },
     "execution_count": 22,
     "metadata": {},
     "output_type": "execute_result"
    }
   ],
   "source": [
    "articles.columns"
   ]
  },
  {
   "cell_type": "code",
   "execution_count": 23,
   "metadata": {},
   "outputs": [
    {
     "data": {
      "text/plain": [
       "0    [Obama, administration, alum, Roger, Fisk, and...\n",
       "1    [WASHINGTON, –, President, Donald, Trump, took...\n",
       "2    [Acting, White, House, chief, of, staff, Mick,...\n",
       "3    [President, Trump, repeated, his, vow, Friday,...\n",
       "4    [President, Donald, Trump, has, yielded, to, p...\n",
       "Name: Tokenized, dtype: object"
      ]
     },
     "execution_count": 23,
     "metadata": {},
     "output_type": "execute_result"
    }
   ],
   "source": [
    "articles.Tokenized.head()"
   ]
  },
  {
   "cell_type": "markdown",
   "metadata": {},
   "source": [
    "Rather than using the allsides bias indicator which is \"from the left\" or \"from the right\" or \"From the center\", for simplicitys sake we'll only include \"Right\", \"Left\", or \"Center\". We also need to ensure that there is consistency in the capitalization scheme of the bias column. "
   ]
  },
  {
   "cell_type": "code",
   "execution_count": 24,
   "metadata": {},
   "outputs": [],
   "source": [
    "articles['bias'] = articles.allsides_bias.apply(word_tokenize)\n",
    "articles['bias'] = articles.bias.apply(lambda x: x[-1].lower())"
   ]
  },
  {
   "cell_type": "code",
   "execution_count": 25,
   "metadata": {},
   "outputs": [
    {
     "data": {
      "text/html": [
       "<div>\n",
       "<style scoped>\n",
       "    .dataframe tbody tr th:only-of-type {\n",
       "        vertical-align: middle;\n",
       "    }\n",
       "\n",
       "    .dataframe tbody tr th {\n",
       "        vertical-align: top;\n",
       "    }\n",
       "\n",
       "    .dataframe thead th {\n",
       "        text-align: right;\n",
       "    }\n",
       "</style>\n",
       "<table border=\"1\" class=\"dataframe\">\n",
       "  <thead>\n",
       "    <tr style=\"text-align: right;\">\n",
       "      <th></th>\n",
       "      <th>source</th>\n",
       "      <th>title</th>\n",
       "      <th>event_id</th>\n",
       "      <th>adfontes_fair</th>\n",
       "      <th>adfontes_political</th>\n",
       "      <th>allsides_bias</th>\n",
       "      <th>content</th>\n",
       "      <th>misc</th>\n",
       "      <th>Tokenized</th>\n",
       "      <th>sent_tokenized</th>\n",
       "      <th>stemmed</th>\n",
       "      <th>count_vector</th>\n",
       "      <th>bias</th>\n",
       "    </tr>\n",
       "  </thead>\n",
       "  <tbody>\n",
       "    <tr>\n",
       "      <th>0</th>\n",
       "      <td>Fox News</td>\n",
       "      <td>Trump blasts Howard Schultz, says ex-Starbucks...</td>\n",
       "      <td>0</td>\n",
       "      <td>bias</td>\n",
       "      <td>bias</td>\n",
       "      <td>From the Right</td>\n",
       "      <td>Obama administration alum Roger Fisk and Repub...</td>\n",
       "      <td>{'time': '2019-01-28 16:10:44.680484', 'topics...</td>\n",
       "      <td>[Obama, administration, alum, Roger, Fisk, and...</td>\n",
       "      <td>[Obama administration alum Roger Fisk and Repu...</td>\n",
       "      <td>[obama, administr, alum, roger, fisk, republic...</td>\n",
       "      <td>[  (0, 158)\\t1\\n  (1, 0)\\t1\\n  (2, 5)\\t1\\n  (3...</td>\n",
       "      <td>right</td>\n",
       "    </tr>\n",
       "    <tr>\n",
       "      <th>1</th>\n",
       "      <td>USA TODAY</td>\n",
       "      <td>Trump blasts former Starbucks CEO Howard Schul...</td>\n",
       "      <td>0</td>\n",
       "      <td>bias</td>\n",
       "      <td>neutral</td>\n",
       "      <td>From the Center</td>\n",
       "      <td>WASHINGTON – President Donald Trump took a swi...</td>\n",
       "      <td>{'time': 'None', 'topics': 'Election: Presiden...</td>\n",
       "      <td>[WASHINGTON, –, President, Donald, Trump, took...</td>\n",
       "      <td>[WASHINGTON – President Donald Trump took a sw...</td>\n",
       "      <td>[washington, presid, donald, trump, took, swip...</td>\n",
       "      <td>[  (0, 141)\\t1\\n  (1, 95)\\t1\\n  (2, 41)\\t1\\n  ...</td>\n",
       "      <td>center</td>\n",
       "    </tr>\n",
       "    <tr>\n",
       "      <th>2</th>\n",
       "      <td>Washington Times</td>\n",
       "      <td>Mick Mulvaney: Trump to secure border 'with or...</td>\n",
       "      <td>0</td>\n",
       "      <td>bias</td>\n",
       "      <td>neutral</td>\n",
       "      <td>From the Right</td>\n",
       "      <td>Acting White House chief of staff Mick Mulvane...</td>\n",
       "      <td>{'time': 'None', 'topics': 'White House', 'aut...</td>\n",
       "      <td>[Acting, White, House, chief, of, staff, Mick,...</td>\n",
       "      <td>[Acting White House chief of staff Mick Mulvan...</td>\n",
       "      <td>[act, white, hous, chief, staff, mick, mulvane...</td>\n",
       "      <td>[  (0, 0)\\t1\\n  (1, 129)\\t1\\n  (2, 53)\\t1\\n  (...</td>\n",
       "      <td>right</td>\n",
       "    </tr>\n",
       "    <tr>\n",
       "      <th>3</th>\n",
       "      <td>Washington Times</td>\n",
       "      <td>Trump says 'we'll do the emergency' if border ...</td>\n",
       "      <td>0</td>\n",
       "      <td>bias</td>\n",
       "      <td>neutral</td>\n",
       "      <td>From the Right</td>\n",
       "      <td>President Trump repeated his vow Friday to dec...</td>\n",
       "      <td>{'time': 'None', 'topics': 'White House, Polit...</td>\n",
       "      <td>[President, Trump, repeated, his, vow, Friday,...</td>\n",
       "      <td>[President Trump repeated his vow Friday to de...</td>\n",
       "      <td>[presid, trump, repeat, vow, friday, declar, n...</td>\n",
       "      <td>[  (0, 40)\\t1\\n  (1, 63)\\t1\\n  (2, 45)\\t1\\n  (...</td>\n",
       "      <td>right</td>\n",
       "    </tr>\n",
       "    <tr>\n",
       "      <th>4</th>\n",
       "      <td>BBC News</td>\n",
       "      <td>Trump backs down to end painful shutdown tempo...</td>\n",
       "      <td>0</td>\n",
       "      <td>bias</td>\n",
       "      <td>neutral</td>\n",
       "      <td>From the Center</td>\n",
       "      <td>President Donald Trump has yielded to politica...</td>\n",
       "      <td>{'time': '2019-01-26 00:00:00', 'topics': 'Whi...</td>\n",
       "      <td>[President, Donald, Trump, has, yielded, to, p...</td>\n",
       "      <td>[President Donald Trump has yielded to politic...</td>\n",
       "      <td>[presid, donald, trump, yield, polit, pressur,...</td>\n",
       "      <td>[  (0, 266)\\t1\\n  (1, 100)\\t1\\n  (2, 372)\\t1\\n...</td>\n",
       "      <td>center</td>\n",
       "    </tr>\n",
       "  </tbody>\n",
       "</table>\n",
       "</div>"
      ],
      "text/plain": [
       "             source                                              title  \\\n",
       "0          Fox News  Trump blasts Howard Schultz, says ex-Starbucks...   \n",
       "1         USA TODAY  Trump blasts former Starbucks CEO Howard Schul...   \n",
       "2  Washington Times  Mick Mulvaney: Trump to secure border 'with or...   \n",
       "3  Washington Times  Trump says 'we'll do the emergency' if border ...   \n",
       "4          BBC News  Trump backs down to end painful shutdown tempo...   \n",
       "\n",
       "   event_id adfontes_fair adfontes_political    allsides_bias  \\\n",
       "0         0          bias               bias   From the Right   \n",
       "1         0          bias            neutral  From the Center   \n",
       "2         0          bias            neutral   From the Right   \n",
       "3         0          bias            neutral   From the Right   \n",
       "4         0          bias            neutral  From the Center   \n",
       "\n",
       "                                             content  \\\n",
       "0  Obama administration alum Roger Fisk and Repub...   \n",
       "1  WASHINGTON – President Donald Trump took a swi...   \n",
       "2  Acting White House chief of staff Mick Mulvane...   \n",
       "3  President Trump repeated his vow Friday to dec...   \n",
       "4  President Donald Trump has yielded to politica...   \n",
       "\n",
       "                                                misc  \\\n",
       "0  {'time': '2019-01-28 16:10:44.680484', 'topics...   \n",
       "1  {'time': 'None', 'topics': 'Election: Presiden...   \n",
       "2  {'time': 'None', 'topics': 'White House', 'aut...   \n",
       "3  {'time': 'None', 'topics': 'White House, Polit...   \n",
       "4  {'time': '2019-01-26 00:00:00', 'topics': 'Whi...   \n",
       "\n",
       "                                           Tokenized  \\\n",
       "0  [Obama, administration, alum, Roger, Fisk, and...   \n",
       "1  [WASHINGTON, –, President, Donald, Trump, took...   \n",
       "2  [Acting, White, House, chief, of, staff, Mick,...   \n",
       "3  [President, Trump, repeated, his, vow, Friday,...   \n",
       "4  [President, Donald, Trump, has, yielded, to, p...   \n",
       "\n",
       "                                      sent_tokenized  \\\n",
       "0  [Obama administration alum Roger Fisk and Repu...   \n",
       "1  [WASHINGTON – President Donald Trump took a sw...   \n",
       "2  [Acting White House chief of staff Mick Mulvan...   \n",
       "3  [President Trump repeated his vow Friday to de...   \n",
       "4  [President Donald Trump has yielded to politic...   \n",
       "\n",
       "                                             stemmed  \\\n",
       "0  [obama, administr, alum, roger, fisk, republic...   \n",
       "1  [washington, presid, donald, trump, took, swip...   \n",
       "2  [act, white, hous, chief, staff, mick, mulvane...   \n",
       "3  [presid, trump, repeat, vow, friday, declar, n...   \n",
       "4  [presid, donald, trump, yield, polit, pressur,...   \n",
       "\n",
       "                                        count_vector    bias  \n",
       "0  [  (0, 158)\\t1\\n  (1, 0)\\t1\\n  (2, 5)\\t1\\n  (3...   right  \n",
       "1  [  (0, 141)\\t1\\n  (1, 95)\\t1\\n  (2, 41)\\t1\\n  ...  center  \n",
       "2  [  (0, 0)\\t1\\n  (1, 129)\\t1\\n  (2, 53)\\t1\\n  (...   right  \n",
       "3  [  (0, 40)\\t1\\n  (1, 63)\\t1\\n  (2, 45)\\t1\\n  (...   right  \n",
       "4  [  (0, 266)\\t1\\n  (1, 100)\\t1\\n  (2, 372)\\t1\\n...  center  "
      ]
     },
     "execution_count": 25,
     "metadata": {},
     "output_type": "execute_result"
    }
   ],
   "source": [
    "articles.head()"
   ]
  },
  {
   "cell_type": "markdown",
   "metadata": {},
   "source": [
    "At this point I'm not sure if I am going to need to eliminate articles if it is the only article in the corpus by the author. It doesn't seem like I would need to because the author is largely irrelvant and may in fact end up adding artificial bias as the neural network could learn to associate an author with a politcal bias and factor that into the sentiment when this is actually the exact kind of bias we are trying to avoid in the first place. At any rate it makes sense that at some point we may want to know which sources have less than one article in the corpus. The following cells do just that. "
   ]
  },
  {
   "cell_type": "code",
   "execution_count": 26,
   "metadata": {},
   "outputs": [
    {
     "data": {
      "text/plain": [
       "CNN (Web News)                  1021\n",
       "Fox News                        1002\n",
       "New York Times - News            781\n",
       "Washington Times                 657\n",
       "HuffPost                         539\n",
       "                                ... \n",
       "John Gable, AllSides Founder       1\n",
       "Rich Lowry                         1\n",
       "Peter Roff                         1\n",
       "George Will                        1\n",
       "Aaron Carroll                      1\n",
       "Name: source, Length: 113, dtype: int64"
      ]
     },
     "execution_count": 26,
     "metadata": {},
     "output_type": "execute_result"
    }
   ],
   "source": [
    "articles.source.value_counts()"
   ]
  },
  {
   "cell_type": "code",
   "execution_count": 27,
   "metadata": {},
   "outputs": [],
   "source": [
    "vals = articles.source.value_counts()"
   ]
  },
  {
   "cell_type": "code",
   "execution_count": 28,
   "metadata": {},
   "outputs": [],
   "source": [
    "vals = pd.DataFrame(vals)"
   ]
  },
  {
   "cell_type": "code",
   "execution_count": 29,
   "metadata": {},
   "outputs": [],
   "source": [
    "single_sources = vals[vals.source == 1]"
   ]
  },
  {
   "cell_type": "code",
   "execution_count": 30,
   "metadata": {},
   "outputs": [],
   "source": [
    "slice = []\n",
    "index = range(0, len(articles.source.values))\n",
    "_ = [slice.append(list(articles.source.values)[art] not in list(single_sources.index)) for art in index]"
   ]
  },
  {
   "cell_type": "code",
   "execution_count": 31,
   "metadata": {},
   "outputs": [
    {
     "data": {
      "text/plain": [
       "7735"
      ]
     },
     "execution_count": 31,
     "metadata": {},
     "output_type": "execute_result"
    }
   ],
   "source": [
    "sum(slice)"
   ]
  },
  {
   "cell_type": "code",
   "execution_count": 32,
   "metadata": {},
   "outputs": [
    {
     "data": {
      "text/html": [
       "<div>\n",
       "<style scoped>\n",
       "    .dataframe tbody tr th:only-of-type {\n",
       "        vertical-align: middle;\n",
       "    }\n",
       "\n",
       "    .dataframe tbody tr th {\n",
       "        vertical-align: top;\n",
       "    }\n",
       "\n",
       "    .dataframe thead th {\n",
       "        text-align: right;\n",
       "    }\n",
       "</style>\n",
       "<table border=\"1\" class=\"dataframe\">\n",
       "  <thead>\n",
       "    <tr style=\"text-align: right;\">\n",
       "      <th></th>\n",
       "      <th>source</th>\n",
       "      <th>title</th>\n",
       "      <th>event_id</th>\n",
       "      <th>adfontes_fair</th>\n",
       "      <th>adfontes_political</th>\n",
       "      <th>allsides_bias</th>\n",
       "      <th>content</th>\n",
       "      <th>misc</th>\n",
       "      <th>Tokenized</th>\n",
       "      <th>sent_tokenized</th>\n",
       "      <th>stemmed</th>\n",
       "      <th>count_vector</th>\n",
       "      <th>bias</th>\n",
       "    </tr>\n",
       "  </thead>\n",
       "  <tbody>\n",
       "    <tr>\n",
       "      <th>0</th>\n",
       "      <td>Fox News</td>\n",
       "      <td>Trump blasts Howard Schultz, says ex-Starbucks...</td>\n",
       "      <td>0</td>\n",
       "      <td>bias</td>\n",
       "      <td>bias</td>\n",
       "      <td>From the Right</td>\n",
       "      <td>Obama administration alum Roger Fisk and Repub...</td>\n",
       "      <td>{'time': '2019-01-28 16:10:44.680484', 'topics...</td>\n",
       "      <td>[Obama, administration, alum, Roger, Fisk, and...</td>\n",
       "      <td>[Obama administration alum Roger Fisk and Repu...</td>\n",
       "      <td>[obama, administr, alum, roger, fisk, republic...</td>\n",
       "      <td>[  (0, 158)\\t1\\n  (1, 0)\\t1\\n  (2, 5)\\t1\\n  (3...</td>\n",
       "      <td>right</td>\n",
       "    </tr>\n",
       "    <tr>\n",
       "      <th>1</th>\n",
       "      <td>USA TODAY</td>\n",
       "      <td>Trump blasts former Starbucks CEO Howard Schul...</td>\n",
       "      <td>0</td>\n",
       "      <td>bias</td>\n",
       "      <td>neutral</td>\n",
       "      <td>From the Center</td>\n",
       "      <td>WASHINGTON – President Donald Trump took a swi...</td>\n",
       "      <td>{'time': 'None', 'topics': 'Election: Presiden...</td>\n",
       "      <td>[WASHINGTON, –, President, Donald, Trump, took...</td>\n",
       "      <td>[WASHINGTON – President Donald Trump took a sw...</td>\n",
       "      <td>[washington, presid, donald, trump, took, swip...</td>\n",
       "      <td>[  (0, 141)\\t1\\n  (1, 95)\\t1\\n  (2, 41)\\t1\\n  ...</td>\n",
       "      <td>center</td>\n",
       "    </tr>\n",
       "    <tr>\n",
       "      <th>2</th>\n",
       "      <td>Washington Times</td>\n",
       "      <td>Mick Mulvaney: Trump to secure border 'with or...</td>\n",
       "      <td>0</td>\n",
       "      <td>bias</td>\n",
       "      <td>neutral</td>\n",
       "      <td>From the Right</td>\n",
       "      <td>Acting White House chief of staff Mick Mulvane...</td>\n",
       "      <td>{'time': 'None', 'topics': 'White House', 'aut...</td>\n",
       "      <td>[Acting, White, House, chief, of, staff, Mick,...</td>\n",
       "      <td>[Acting White House chief of staff Mick Mulvan...</td>\n",
       "      <td>[act, white, hous, chief, staff, mick, mulvane...</td>\n",
       "      <td>[  (0, 0)\\t1\\n  (1, 129)\\t1\\n  (2, 53)\\t1\\n  (...</td>\n",
       "      <td>right</td>\n",
       "    </tr>\n",
       "    <tr>\n",
       "      <th>3</th>\n",
       "      <td>Washington Times</td>\n",
       "      <td>Trump says 'we'll do the emergency' if border ...</td>\n",
       "      <td>0</td>\n",
       "      <td>bias</td>\n",
       "      <td>neutral</td>\n",
       "      <td>From the Right</td>\n",
       "      <td>President Trump repeated his vow Friday to dec...</td>\n",
       "      <td>{'time': 'None', 'topics': 'White House, Polit...</td>\n",
       "      <td>[President, Trump, repeated, his, vow, Friday,...</td>\n",
       "      <td>[President Trump repeated his vow Friday to de...</td>\n",
       "      <td>[presid, trump, repeat, vow, friday, declar, n...</td>\n",
       "      <td>[  (0, 40)\\t1\\n  (1, 63)\\t1\\n  (2, 45)\\t1\\n  (...</td>\n",
       "      <td>right</td>\n",
       "    </tr>\n",
       "    <tr>\n",
       "      <th>4</th>\n",
       "      <td>BBC News</td>\n",
       "      <td>Trump backs down to end painful shutdown tempo...</td>\n",
       "      <td>0</td>\n",
       "      <td>bias</td>\n",
       "      <td>neutral</td>\n",
       "      <td>From the Center</td>\n",
       "      <td>President Donald Trump has yielded to politica...</td>\n",
       "      <td>{'time': '2019-01-26 00:00:00', 'topics': 'Whi...</td>\n",
       "      <td>[President, Donald, Trump, has, yielded, to, p...</td>\n",
       "      <td>[President Donald Trump has yielded to politic...</td>\n",
       "      <td>[presid, donald, trump, yield, polit, pressur,...</td>\n",
       "      <td>[  (0, 266)\\t1\\n  (1, 100)\\t1\\n  (2, 372)\\t1\\n...</td>\n",
       "      <td>center</td>\n",
       "    </tr>\n",
       "    <tr>\n",
       "      <th>...</th>\n",
       "      <td>...</td>\n",
       "      <td>...</td>\n",
       "      <td>...</td>\n",
       "      <td>...</td>\n",
       "      <td>...</td>\n",
       "      <td>...</td>\n",
       "      <td>...</td>\n",
       "      <td>...</td>\n",
       "      <td>...</td>\n",
       "      <td>...</td>\n",
       "      <td>...</td>\n",
       "      <td>...</td>\n",
       "      <td>...</td>\n",
       "    </tr>\n",
       "    <tr>\n",
       "      <th>7770</th>\n",
       "      <td>Politico</td>\n",
       "      <td>Ann Romney's task: Humanize Mitt</td>\n",
       "      <td>0</td>\n",
       "      <td>bias</td>\n",
       "      <td>neutral</td>\n",
       "      <td>From the Left</td>\n",
       "      <td>TAMPA, Fla. — Ann Romney will take to the podi...</td>\n",
       "      <td>{'time': '2012-08-28 04:59:14', 'topics': 'Ele...</td>\n",
       "      <td>[TAMPA, ,, Fla., —, Ann, Romney, will, take, t...</td>\n",
       "      <td>[TAMPA, Fla. — Ann Romney will take to the pod...</td>\n",
       "      <td>[tampa, ann, romney, take, podium, tuesday, ni...</td>\n",
       "      <td>[  (0, 170)\\t1\\n  (1, 7)\\t1\\n  (2, 141)\\t1\\n  ...</td>\n",
       "      <td>left</td>\n",
       "    </tr>\n",
       "    <tr>\n",
       "      <th>7771</th>\n",
       "      <td>Washington Times</td>\n",
       "      <td>'Mittigator' to make case for Romney</td>\n",
       "      <td>0</td>\n",
       "      <td>bias</td>\n",
       "      <td>neutral</td>\n",
       "      <td>From the Right</td>\n",
       "      <td>She is a gracious warrior with a kind face, a ...</td>\n",
       "      <td>{'time': 'None', 'topics': 'Election: Presiden...</td>\n",
       "      <td>[She, is, a, gracious, warrior, with, a, kind,...</td>\n",
       "      <td>[She is a gracious warrior with a kind face, a...</td>\n",
       "      <td>[she, graciou, warrior, kind, face, polish, de...</td>\n",
       "      <td>[  (0, 403)\\t1\\n  (1, 188)\\t1\\n  (2, 496)\\t1\\n...</td>\n",
       "      <td>right</td>\n",
       "    </tr>\n",
       "    <tr>\n",
       "      <th>7772</th>\n",
       "      <td>Fox News</td>\n",
       "      <td>Convention-bound Ryan slams Obama for presidin...</td>\n",
       "      <td>0</td>\n",
       "      <td>bias</td>\n",
       "      <td>bias</td>\n",
       "      <td>From the Right</td>\n",
       "      <td>Republican VP pick on 'Special Report'\\nMaking...</td>\n",
       "      <td>{'time': '2012-08-27 00:00:00', 'topics': 'Ele...</td>\n",
       "      <td>[Republican, VP, pick, on, 'Special, Report', ...</td>\n",
       "      <td>[Republican VP pick on 'Special Report'\\nMakin...</td>\n",
       "      <td>[republican, vp, pick, make, one, last, stop, ...</td>\n",
       "      <td>[  (0, 234)\\t1\\n  (1, 308)\\t1\\n  (2, 198)\\t1\\n...</td>\n",
       "      <td>right</td>\n",
       "    </tr>\n",
       "    <tr>\n",
       "      <th>7773</th>\n",
       "      <td>Politico</td>\n",
       "      <td>Ryan seeks comfort of Ron Paul fans</td>\n",
       "      <td>0</td>\n",
       "      <td>bias</td>\n",
       "      <td>neutral</td>\n",
       "      <td>From the Left</td>\n",
       "      <td>Paul Ryan said Monday he expects Ron Paul supp...</td>\n",
       "      <td>{'time': '2012-08-27 15:52:45', 'topics': 'Ele...</td>\n",
       "      <td>[Paul, Ryan, said, Monday, he, expects, Ron, P...</td>\n",
       "      <td>[Paul Ryan said Monday he expects Ron Paul sup...</td>\n",
       "      <td>[paul, ryan, said, monday, expect, ron, paul, ...</td>\n",
       "      <td>[  (0, 49)\\t1\\n  (1, 58)\\t1\\n  (2, 59)\\t1\\n  (...</td>\n",
       "      <td>left</td>\n",
       "    </tr>\n",
       "    <tr>\n",
       "      <th>7774</th>\n",
       "      <td>CNN (Web News)</td>\n",
       "      <td>Paul to supporters: 2012 the start of a new era</td>\n",
       "      <td>0</td>\n",
       "      <td>bias</td>\n",
       "      <td>neutral</td>\n",
       "      <td>From the Left</td>\n",
       "      <td>Tampa, Florida (CNN) \\- As Rep. Ron Paul's thi...</td>\n",
       "      <td>{'time': '2012-08-26 00:00:00', 'topics': 'Ele...</td>\n",
       "      <td>[Tampa, ,, Florida, (, CNN, ), \\-, As, Rep., R...</td>\n",
       "      <td>[Tampa, Florida (CNN) \\- As Rep. Ron Paul's th...</td>\n",
       "      <td>[tampa, florida, cnn, as, ron, paul, third, pr...</td>\n",
       "      <td>[  (0, 238)\\t1\\n  (1, 87)\\t1\\n  (2, 39)\\t1\\n  ...</td>\n",
       "      <td>left</td>\n",
       "    </tr>\n",
       "  </tbody>\n",
       "</table>\n",
       "<p>7735 rows × 13 columns</p>\n",
       "</div>"
      ],
      "text/plain": [
       "                source                                              title  \\\n",
       "0             Fox News  Trump blasts Howard Schultz, says ex-Starbucks...   \n",
       "1            USA TODAY  Trump blasts former Starbucks CEO Howard Schul...   \n",
       "2     Washington Times  Mick Mulvaney: Trump to secure border 'with or...   \n",
       "3     Washington Times  Trump says 'we'll do the emergency' if border ...   \n",
       "4             BBC News  Trump backs down to end painful shutdown tempo...   \n",
       "...                ...                                                ...   \n",
       "7770          Politico                   Ann Romney's task: Humanize Mitt   \n",
       "7771  Washington Times               'Mittigator' to make case for Romney   \n",
       "7772          Fox News  Convention-bound Ryan slams Obama for presidin...   \n",
       "7773          Politico                Ryan seeks comfort of Ron Paul fans   \n",
       "7774    CNN (Web News)    Paul to supporters: 2012 the start of a new era   \n",
       "\n",
       "      event_id adfontes_fair adfontes_political    allsides_bias  \\\n",
       "0            0          bias               bias   From the Right   \n",
       "1            0          bias            neutral  From the Center   \n",
       "2            0          bias            neutral   From the Right   \n",
       "3            0          bias            neutral   From the Right   \n",
       "4            0          bias            neutral  From the Center   \n",
       "...        ...           ...                ...              ...   \n",
       "7770         0          bias            neutral    From the Left   \n",
       "7771         0          bias            neutral   From the Right   \n",
       "7772         0          bias               bias   From the Right   \n",
       "7773         0          bias            neutral    From the Left   \n",
       "7774         0          bias            neutral    From the Left   \n",
       "\n",
       "                                                content  \\\n",
       "0     Obama administration alum Roger Fisk and Repub...   \n",
       "1     WASHINGTON – President Donald Trump took a swi...   \n",
       "2     Acting White House chief of staff Mick Mulvane...   \n",
       "3     President Trump repeated his vow Friday to dec...   \n",
       "4     President Donald Trump has yielded to politica...   \n",
       "...                                                 ...   \n",
       "7770  TAMPA, Fla. — Ann Romney will take to the podi...   \n",
       "7771  She is a gracious warrior with a kind face, a ...   \n",
       "7772  Republican VP pick on 'Special Report'\\nMaking...   \n",
       "7773  Paul Ryan said Monday he expects Ron Paul supp...   \n",
       "7774  Tampa, Florida (CNN) \\- As Rep. Ron Paul's thi...   \n",
       "\n",
       "                                                   misc  \\\n",
       "0     {'time': '2019-01-28 16:10:44.680484', 'topics...   \n",
       "1     {'time': 'None', 'topics': 'Election: Presiden...   \n",
       "2     {'time': 'None', 'topics': 'White House', 'aut...   \n",
       "3     {'time': 'None', 'topics': 'White House, Polit...   \n",
       "4     {'time': '2019-01-26 00:00:00', 'topics': 'Whi...   \n",
       "...                                                 ...   \n",
       "7770  {'time': '2012-08-28 04:59:14', 'topics': 'Ele...   \n",
       "7771  {'time': 'None', 'topics': 'Election: Presiden...   \n",
       "7772  {'time': '2012-08-27 00:00:00', 'topics': 'Ele...   \n",
       "7773  {'time': '2012-08-27 15:52:45', 'topics': 'Ele...   \n",
       "7774  {'time': '2012-08-26 00:00:00', 'topics': 'Ele...   \n",
       "\n",
       "                                              Tokenized  \\\n",
       "0     [Obama, administration, alum, Roger, Fisk, and...   \n",
       "1     [WASHINGTON, –, President, Donald, Trump, took...   \n",
       "2     [Acting, White, House, chief, of, staff, Mick,...   \n",
       "3     [President, Trump, repeated, his, vow, Friday,...   \n",
       "4     [President, Donald, Trump, has, yielded, to, p...   \n",
       "...                                                 ...   \n",
       "7770  [TAMPA, ,, Fla., —, Ann, Romney, will, take, t...   \n",
       "7771  [She, is, a, gracious, warrior, with, a, kind,...   \n",
       "7772  [Republican, VP, pick, on, 'Special, Report', ...   \n",
       "7773  [Paul, Ryan, said, Monday, he, expects, Ron, P...   \n",
       "7774  [Tampa, ,, Florida, (, CNN, ), \\-, As, Rep., R...   \n",
       "\n",
       "                                         sent_tokenized  \\\n",
       "0     [Obama administration alum Roger Fisk and Repu...   \n",
       "1     [WASHINGTON – President Donald Trump took a sw...   \n",
       "2     [Acting White House chief of staff Mick Mulvan...   \n",
       "3     [President Trump repeated his vow Friday to de...   \n",
       "4     [President Donald Trump has yielded to politic...   \n",
       "...                                                 ...   \n",
       "7770  [TAMPA, Fla. — Ann Romney will take to the pod...   \n",
       "7771  [She is a gracious warrior with a kind face, a...   \n",
       "7772  [Republican VP pick on 'Special Report'\\nMakin...   \n",
       "7773  [Paul Ryan said Monday he expects Ron Paul sup...   \n",
       "7774  [Tampa, Florida (CNN) \\- As Rep. Ron Paul's th...   \n",
       "\n",
       "                                                stemmed  \\\n",
       "0     [obama, administr, alum, roger, fisk, republic...   \n",
       "1     [washington, presid, donald, trump, took, swip...   \n",
       "2     [act, white, hous, chief, staff, mick, mulvane...   \n",
       "3     [presid, trump, repeat, vow, friday, declar, n...   \n",
       "4     [presid, donald, trump, yield, polit, pressur,...   \n",
       "...                                                 ...   \n",
       "7770  [tampa, ann, romney, take, podium, tuesday, ni...   \n",
       "7771  [she, graciou, warrior, kind, face, polish, de...   \n",
       "7772  [republican, vp, pick, make, one, last, stop, ...   \n",
       "7773  [paul, ryan, said, monday, expect, ron, paul, ...   \n",
       "7774  [tampa, florida, cnn, as, ron, paul, third, pr...   \n",
       "\n",
       "                                           count_vector    bias  \n",
       "0     [  (0, 158)\\t1\\n  (1, 0)\\t1\\n  (2, 5)\\t1\\n  (3...   right  \n",
       "1     [  (0, 141)\\t1\\n  (1, 95)\\t1\\n  (2, 41)\\t1\\n  ...  center  \n",
       "2     [  (0, 0)\\t1\\n  (1, 129)\\t1\\n  (2, 53)\\t1\\n  (...   right  \n",
       "3     [  (0, 40)\\t1\\n  (1, 63)\\t1\\n  (2, 45)\\t1\\n  (...   right  \n",
       "4     [  (0, 266)\\t1\\n  (1, 100)\\t1\\n  (2, 372)\\t1\\n...  center  \n",
       "...                                                 ...     ...  \n",
       "7770  [  (0, 170)\\t1\\n  (1, 7)\\t1\\n  (2, 141)\\t1\\n  ...    left  \n",
       "7771  [  (0, 403)\\t1\\n  (1, 188)\\t1\\n  (2, 496)\\t1\\n...   right  \n",
       "7772  [  (0, 234)\\t1\\n  (1, 308)\\t1\\n  (2, 198)\\t1\\n...   right  \n",
       "7773  [  (0, 49)\\t1\\n  (1, 58)\\t1\\n  (2, 59)\\t1\\n  (...    left  \n",
       "7774  [  (0, 238)\\t1\\n  (1, 87)\\t1\\n  (2, 39)\\t1\\n  ...    left  \n",
       "\n",
       "[7735 rows x 13 columns]"
      ]
     },
     "execution_count": 32,
     "metadata": {},
     "output_type": "execute_result"
    }
   ],
   "source": [
    "articles[slice]"
   ]
  },
  {
   "cell_type": "code",
   "execution_count": 39,
   "metadata": {},
   "outputs": [
    {
     "data": {
      "text/plain": [
       "113"
      ]
     },
     "execution_count": 39,
     "metadata": {},
     "output_type": "execute_result"
    }
   ],
   "source": [
    "len(articles.source.unique())"
   ]
  },
  {
   "cell_type": "code",
   "execution_count": null,
   "metadata": {},
   "outputs": [],
   "source": []
  }
 ],
 "metadata": {
  "kernelspec": {
   "display_name": "Python 3",
   "language": "python",
   "name": "python3"
  },
  "language_info": {
   "codemirror_mode": {
    "name": "ipython",
    "version": 3
   },
   "file_extension": ".py",
   "mimetype": "text/x-python",
   "name": "python",
   "nbconvert_exporter": "python",
   "pygments_lexer": "ipython3",
   "version": "3.7.6"
  }
 },
 "nbformat": 4,
 "nbformat_minor": 4
}
